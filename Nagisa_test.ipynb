{
 "cells": [
  {
   "cell_type": "markdown",
   "metadata": {},
   "source": [
    "# Nagisaを使う\n",
    " - [マギレコに百江なぎささん実装されましたね](https://www.google.com/search?client=ubuntu&hs=0YH&channel=fs&biw=1347&bih=792&ei=b9HTW7GyOpTt-Qbg4LDYCg&q=%E7%99%BE%E6%B1%9F%E3%81%AA%E3%81%8E%E3%81%95&oq=%E7%99%BE%E6%B1%9F%E3%81%AA%E3%81%8E%E3%81%95&gs_l=psy-ab.3...5898.5898.0.6775.0.0.0.0.0.0.0.0..0.0....0...1c.2.64.psy-ab..0.0.0....0.r3HaQmxFVMg)"
   ]
  },
  {
   "cell_type": "code",
   "execution_count": 15,
   "metadata": {
    "scrolled": true
   },
   "outputs": [
    {
     "name": "stdout",
     "output_type": "stream",
     "text": [
      "なぎ/名詞 さ/接尾辞 は/助詞 チーズ/名詞 が/助詞 食べ/動詞 たかっ/助動詞 た/助動詞 だけ/助詞 な/助動詞 の/助詞 です/助動詞 !/補助記号 (/補助記号 CV/名詞 :/補助記号 阿澄/名詞 佳奈/名詞 )/補助記号\n",
      "['なぎ', 'さ', 'は', 'チーズ', 'が', '食べ', 'たかっ', 'た', 'だけ', 'な', 'の', 'です', '!', '(', 'CV', ':', '阿澄', '佳奈', ')']\n",
      "['名詞', '接尾辞', '助詞', '名詞', '助詞', '動詞', '助動詞', '助動詞', '助詞', '助動詞', '助詞', '助動詞', '補助記号', '補助記号', '名詞', '補助記号', '名詞', '名詞', '補助記号']\n",
      "なぎさはチーズが食べたかっただけなのです！(CV:阿澄佳奈)\n"
     ]
    }
   ],
   "source": [
    "import nagisa\n",
    "text  = 'なぎさはチーズが食べたかっただけなのです！(CV:阿澄佳奈)'\n",
    "words = nagisa.tagging(text)\n",
    "print(words)\n",
    "print(words.words)\n",
    "print(words.postags)\n",
    "print(words.text)"
   ]
  },
  {
   "cell_type": "markdown",
   "metadata": {},
   "source": [
    "## なぎさ、阿澄佳奈は１単語として扱いたい"
   ]
  },
  {
   "cell_type": "code",
   "execution_count": 9,
   "metadata": {},
   "outputs": [
    {
     "name": "stdout",
     "output_type": "stream",
     "text": [
      "なぎさ/名詞 は/助詞 チーズ/名詞 が/助詞 食べ/動詞 たかっ/助動詞 た/助動詞 だけ/助詞 な/助動詞 の/助詞 です/助動詞 !/補助記号 (/補助記号 CV/英単語 :/補助記号 阿澄佳奈/英単語 )/補助記号\n"
     ]
    }
   ],
   "source": [
    "tagger_nn = nagisa.Tagger(single_word_list=['なぎさ', '阿澄佳奈'])\n",
    "print(tagger_nn.tagging(text)) "
   ]
  },
  {
   "cell_type": "markdown",
   "metadata": {},
   "source": [
    "阿澄佳奈は英単語、ここテストに出ますよ (なぎさは名詞で推定できてるから不思議)。  \n",
    "単語登録が簡単なのはすごく便利なんだけれど、かなり遅くなった気がする。  \n",
    "ここでは試してないけどディープでよしなにやってくれるので、URLや顔文字もちゃんと分割してくれるらしい。"
   ]
  },
  {
   "cell_type": "code",
   "execution_count": 14,
   "metadata": {},
   "outputs": [
    {
     "name": "stdout",
     "output_type": "stream",
     "text": [
      "魔法/名詞 少女/名詞 リリカル/形状詞 な/助動詞 の/助詞 は/助詞\n",
      "残酷/名詞 なのは/名詞 戦争/名詞\n"
     ]
    }
   ],
   "source": [
    "# なのは問題\n",
    "text  = '魔法少女リリカルなのは'\n",
    "words = nagisa.tagging(text)\n",
    "print(words)\n",
    "\n",
    "tagger_nn = nagisa.Tagger(single_word_list=['なのは'])\n",
    "print(tagger_nn.tagging('残酷なのは戦争')) "
   ]
  },
  {
   "cell_type": "markdown",
   "metadata": {},
   "source": [
    "自然言語処理難しい。"
   ]
  }
 ],
 "metadata": {
  "kernelspec": {
   "display_name": "Python 3",
   "language": "python",
   "name": "python3"
  },
  "language_info": {
   "codemirror_mode": {
    "name": "ipython",
    "version": 3
   },
   "file_extension": ".py",
   "mimetype": "text/x-python",
   "name": "python",
   "nbconvert_exporter": "python",
   "pygments_lexer": "ipython3",
   "version": "3.6.3"
  }
 },
 "nbformat": 4,
 "nbformat_minor": 2
}
