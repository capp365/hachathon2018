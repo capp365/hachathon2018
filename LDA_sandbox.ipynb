{
 "cells": [
  {
   "cell_type": "code",
   "execution_count": 1,
   "metadata": {
    "collapsed": true
   },
   "outputs": [],
   "source": [
    "import pickle\n",
    "dataset,countdic=pickle.load(open('./data_and_vocab.pkl','rb'))"
   ]
  },
  {
   "cell_type": "markdown",
   "metadata": {},
   "source": [
    "# データ加工部"
   ]
  },
  {
   "cell_type": "code",
   "execution_count": 6,
   "metadata": {},
   "outputs": [],
   "source": [
    "dataset=sorted(dataset,key=lambda x:x[0])"
   ]
  },
  {
   "cell_type": "code",
   "execution_count": 252,
   "metadata": {},
   "outputs": [],
   "source": [
    "index=0\n",
    "indexlist=[]\n",
    "for i in range(len(dataset)):\n",
    "    if i==0:\n",
    "        indexlist.append(index)\n",
    "    if (dataset[i][0]-dataset[i-1][0]).total_seconds()>180:\n",
    "        index+=1\n",
    "    indexlist.append(index)"
   ]
  },
  {
   "cell_type": "code",
   "execution_count": 253,
   "metadata": {},
   "outputs": [
    {
     "data": {
      "text/plain": [
       "(64204, 29813)"
      ]
     },
     "execution_count": 253,
     "metadata": {},
     "output_type": "execute_result"
    }
   ],
   "source": [
    "len(indexlist),max(indexlist)"
   ]
  },
  {
   "cell_type": "code",
   "execution_count": 254,
   "metadata": {},
   "outputs": [],
   "source": [
    "merged_dataset=[[None,[]] for i in range(max(indexlist)+1)]\n",
    "for data,i in zip(dataset,indexlist):\n",
    "    if merged_dataset[i][0] is None:\n",
    "        merged_dataset[i][0]=data[0]\n",
    "    merged_dataset[i][1]+=[j for j in zip(data[1].words,data[1].postags)]"
   ]
  },
  {
   "cell_type": "markdown",
   "metadata": {},
   "source": [
    "# 辞書づくり部"
   ]
  },
  {
   "cell_type": "code",
   "execution_count": 255,
   "metadata": {},
   "outputs": [],
   "source": [
    "vocabs=[(j,i) for i in countdic for j in countdic[i] if countdic[i][j]>20]"
   ]
  },
  {
   "cell_type": "code",
   "execution_count": 256,
   "metadata": {},
   "outputs": [],
   "source": [
    "vocab2index={i[1]:i[0] for i in enumerate(vocabs)}"
   ]
  },
  {
   "cell_type": "code",
   "execution_count": 257,
   "metadata": {},
   "outputs": [],
   "source": [
    "tmps=[]\n",
    "feature=[]\n",
    "for i in merged_dataset:\n",
    "    tmp=[j for j in i[1] if j in vocabs]\n",
    "    tmps.append(tmp)\n",
    "    feature.append([[vocab2index[j],tmp.count(j)] for j in set(tmp)])"
   ]
  },
  {
   "cell_type": "code",
   "execution_count": 258,
   "metadata": {},
   "outputs": [],
   "source": [
    "stop_words=['0','1','2','3','4','5','6','7','8','9','ない','する','いう','よう','',\n",
    "           '僕','そう','こと','それ','さん','思っ','感じ','Minathuki','まぁ','ある','なる','これ','いる','なく','',\n",
    "           'いい','あれ','うち','なん','ちゃん','RT','どっ','どう','思う','ある','なっ','くる','やっ','あっ','なり',\n",
    "            '本日','今日','明日','みんな','自分','もの','とこ','やつ','capp','データ','日本','おっ','TL',\n",
    "           'ツイ', 'リプ','はず','ほう','ひと','ため','あと','わけ','もん','最近','必要','とき']"
   ]
  },
  {
   "cell_type": "code",
   "execution_count": 259,
   "metadata": {},
   "outputs": [],
   "source": [
    "input_data=[[j[0] for j in i if j[0] not in stop_words and len(j[0])>1 and j[1]=='名詞'] for i in tmps]"
   ]
  },
  {
   "cell_type": "code",
   "execution_count": 260,
   "metadata": {},
   "outputs": [],
   "source": [
    "import gensim\n",
    "from gensim import corpora, models, similarities\n",
    "dictionary = corpora.Dictionary(input_data)\n",
    "#dictionary.filter_extremes(no_below=30, no_above=0.1)"
   ]
  },
  {
   "cell_type": "code",
   "execution_count": 261,
   "metadata": {
    "collapsed": true
   },
   "outputs": [],
   "source": [
    "corpus = []\n",
    "for word in input_data:\n",
    "    bow = dictionary.doc2bow(word)\n",
    "    corpus.append(bow)\n"
   ]
  },
  {
   "cell_type": "code",
   "execution_count": 262,
   "metadata": {},
   "outputs": [
    {
     "name": "stdout",
     "output_type": "stream",
     "text": [
      "\n",
      "\n",
      "================================================================================\n",
      "TOPIC 0\n",
      "\n",
      "時間                  0.024832112714648247\n",
      "人生                  0.02263304404914379\n",
      "アニメ                 0.020667990669608116\n",
      "先生                  0.019204696640372276\n",
      "フレンズ                0.013757986016571522\n",
      "サナララ                0.013366804458200932\n",
      "のぞみ                 0.013270673342049122\n",
      "本当                  0.012527930550277233\n",
      "ところ                 0.012380399741232395\n",
      "最高                  0.012006085366010666\n",
      "\n",
      "\n",
      "================================================================================\n",
      "TOPIC 1\n",
      "\n",
      "仕事                  0.026127759367227554\n",
      "気持ち                 0.020275553688406944\n",
      "社会                  0.017976339906454086\n",
      "だめ                  0.012662854045629501\n",
      "概念                  0.012033949606120586\n",
      "おじ                  0.008770833723247051\n",
      "無理                  0.008557888679206371\n",
      "部屋                  0.008020891807973385\n",
      "PC                  0.007842323742806911\n",
      "問題                  0.007713694125413895\n",
      "\n",
      "\n",
      "================================================================================\n",
      "TOPIC 2\n",
      "\n",
      "魔法                  0.02340560220181942\n",
      "少女                  0.022581906989216805\n",
      "先生                  0.013330072164535522\n",
      "労働                  0.010197939351201057\n",
      "パワポ                 0.00899472925812006\n",
      "画像                  0.008474364876747131\n",
      "現実                  0.008450021035969257\n",
      "世界                  0.008412784896790981\n",
      "企業                  0.008195078931748867\n",
      "決定                  0.007208103779703379\n",
      "\n",
      "\n",
      "================================================================================\n",
      "TOPIC 3\n",
      "\n",
      "各位                  0.01662375219166279\n",
      "ダメ                  0.011492288671433926\n",
      "職場                  0.010988042689859867\n",
      "パン                  0.01088754367083311\n",
      "にゃんこ                0.008310215547680855\n",
      "学習                  0.008037942461669445\n",
      "焼きそば                0.007861088030040264\n",
      "名前                  0.0072322506457567215\n",
      "東京                  0.007208972238004208\n",
      "バイク                 0.007167221512645483\n"
     ]
    }
   ],
   "source": [
    "topic_N = 4\n",
    "\n",
    "lda = gensim.models.ldamodel.LdaModel(\n",
    "          corpus     = corpus\n",
    "        , num_topics = topic_N\n",
    "        , id2word    = dictionary\n",
    "      )\n",
    "\n",
    "for i in range(topic_N):\n",
    "    print(\"\\n\")\n",
    "    print(\"=\"*80)\n",
    "    print(\"TOPIC {0}\\n\".format(i))\n",
    "    topic = lda.show_topic(i)\n",
    "    for t in topic:\n",
    "        print(\"{0:20s}{1}\".format(t[0], t[1]))"
   ]
  },
  {
   "cell_type": "code",
   "execution_count": 243,
   "metadata": {
    "scrolled": false
   },
   "outputs": [
    {
     "data": {
      "text/plain": [
       "[(2, 0.018929616)]"
      ]
     },
     "execution_count": 243,
     "metadata": {},
     "output_type": "execute_result"
    }
   ],
   "source": [
    "lda.get_term_topics('サナララ')"
   ]
  },
  {
   "cell_type": "code",
   "execution_count": null,
   "metadata": {
    "collapsed": true
   },
   "outputs": [],
   "source": []
  },
  {
   "cell_type": "code",
   "execution_count": null,
   "metadata": {
    "collapsed": true
   },
   "outputs": [],
   "source": []
  }
 ],
 "metadata": {
  "kernelspec": {
   "display_name": "Python 3",
   "language": "python",
   "name": "python3"
  },
  "language_info": {
   "codemirror_mode": {
    "name": "ipython",
    "version": 3
   },
   "file_extension": ".py",
   "mimetype": "text/x-python",
   "name": "python",
   "nbconvert_exporter": "python",
   "pygments_lexer": "ipython3",
   "version": "3.6.3"
  }
 },
 "nbformat": 4,
 "nbformat_minor": 2
}
